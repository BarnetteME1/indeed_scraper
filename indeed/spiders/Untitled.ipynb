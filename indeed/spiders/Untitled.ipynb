{
 "cells": [
  {
   "cell_type": "code",
   "execution_count": 2,
   "metadata": {
    "collapsed": true
   },
   "outputs": [],
   "source": [
    "import scrapy\n",
    "\n",
    "\n",
    "class IndeedItem(scrapy.Item):\n",
    "    company = scrapy.Field()\n",
    "    city = scrapy.Field()\n",
    "    state = scrapy.Field()\n",
    "    jobs = scrapy.Field()\n",
    "    test = scrapy.Field()"
   ]
  },
  {
   "cell_type": "code",
   "execution_count": 3,
   "metadata": {
    "collapsed": false
   },
   "outputs": [],
   "source": [
    "import scrapy\n",
    "\n",
    "\n",
    "class IndeedSpider(scrapy.Spider):\n",
    "    name = \"indeed\"\n",
    "    allowed_domains = ['www.indeed.com']\n",
    "    start_urls = [\n",
    "        'http://www.indeed.com/jobs?as_and=&as_phr=&as_any=&as_not=&as_ttl=&as_cmp=&jt=all&st=&salary=&radius=50&l=19103&fromage=30&limit=10&sort=&psf=advsrch'\n",
    "        ]\n",
    "\n",
    "    def parse(self, response):\n",
    "        ij = scrapy.Selector(response)\n",
    "        jobs = ij.xpath(\"//div[contains(@class, ' row ')]\")\n",
    "        openings = []\n",
    "        job_list = jobs.xpath('a[@data-tn-element=\"jobTitle\"]/text()').extract()\n",
    "        city = jobs.xpath('span[@class=\"location\"]/text()').extract()\n",
    "        company = jobs.xpath('h2[@class=\"company\"]/text()').extract()\n",
    "        # test = jobs.xpath('/text()')\n",
    "        for item in range(len(job_list)):\n",
    "            position = IndeedItem()\n",
    "            position['jobs'] = job_list[item]\n",
    "            position['city'] = city[item]\n",
    "            position['company'] = company[item]\n",
    "            # position['test'] = test[item]\n",
    "            openings.append(position)\n",
    "        return openings"
   ]
  },
  {
   "cell_type": "code",
   "execution_count": 4,
   "metadata": {
    "collapsed": true
   },
   "outputs": [],
   "source": [
    "indeed = IndeedSpider()"
   ]
  },
  {
   "cell_type": "code",
   "execution_count": 5,
   "metadata": {
    "collapsed": false
   },
   "outputs": [
    {
     "ename": "TypeError",
     "evalue": "parse() missing 1 required positional argument: 'response'",
     "output_type": "error",
     "traceback": [
      "\u001b[0;31m---------------------------------------------------------------------------\u001b[0m",
      "\u001b[0;31mTypeError\u001b[0m                                 Traceback (most recent call last)",
      "\u001b[0;32m<ipython-input-5-477254fb7484>\u001b[0m in \u001b[0;36m<module>\u001b[0;34m()\u001b[0m\n\u001b[0;32m----> 1\u001b[0;31m \u001b[0mindeed\u001b[0m\u001b[0;34m.\u001b[0m\u001b[0mparse\u001b[0m\u001b[0;34m(\u001b[0m\u001b[0;34m)\u001b[0m\u001b[0;34m\u001b[0m\u001b[0m\n\u001b[0m",
      "\u001b[0;31mTypeError\u001b[0m: parse() missing 1 required positional argument: 'response'"
     ]
    }
   ],
   "source": [
    "indeed.parse()"
   ]
  }
 ],
 "metadata": {
  "kernelspec": {
   "display_name": "Python 3",
   "language": "python",
   "name": "python3"
  },
  "language_info": {
   "codemirror_mode": {
    "name": "ipython",
    "version": 3
   },
   "file_extension": ".py",
   "mimetype": "text/x-python",
   "name": "python",
   "nbconvert_exporter": "python",
   "pygments_lexer": "ipython3",
   "version": "3.5.0"
  }
 },
 "nbformat": 4,
 "nbformat_minor": 0
}
